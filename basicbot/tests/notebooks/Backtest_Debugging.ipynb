{
 "cells": [
  {
   "cell_type": "code",
   "execution_count": null,
   "id": "90c636ce",
   "metadata": {},
   "outputs": [],
   "source": [
    "\n",
    "import pandas as pd\n",
    "import unittest\n",
    "import logging\n",
    "from typing import Any\n",
    "\n",
    "class TradeSignal:\n",
    "    BUY = 'BUY'\n",
    "    SELL = 'SELL'\n",
    "    HOLD = 'HOLD'\n",
    "\n",
    "class Strategy:\n",
    "    def __init__(self, logger: logging.Logger):\n",
    "        self.logger = logger\n",
    "\n",
    "    def backtest_strategy(self, df: pd.DataFrame) -> pd.DataFrame:\n",
    "        \"\"\"\n",
    "        Backtest the strategy with proper handling of single trades.\n",
    "        \"\"\"\n",
    "        self.logger.info(\"Starting backtest with single-trade handling.\")\n",
    "\n",
    "        # Initialize tracking columns\n",
    "        df['position'] = 0\n",
    "        df['entry_price'] = 0.0\n",
    "        df['exit_price'] = 0.0\n",
    "        df['strategy_returns'] = 0.0\n",
    "        df['equity'] = 100000.0  # Starting equity\n",
    "        equity = 100000.0\n",
    "        position = 0\n",
    "        entry_price = 0.0\n",
    "\n",
    "        for idx in range(len(df)):\n",
    "            signal = df.at[idx, 'signal']\n",
    "            price = df.at[idx, 'close']\n",
    "\n",
    "            # Exit logic\n",
    "            if position == 1 and signal == TradeSignal.SELL:  # Exiting LONG\n",
    "                df.at[idx, 'exit_price'] = price\n",
    "                pnl = price - entry_price\n",
    "                equity += pnl\n",
    "                df.at[idx, 'strategy_returns'] = pnl\n",
    "                position = 0  # Reset position to flat\n",
    "                entry_price = 0.0\n",
    "                self.logger.debug(f\"Exited LONG at index {idx} with equity {equity}\")\n",
    "\n",
    "            elif position == -1 and signal == TradeSignal.BUY:  # Exiting SHORT\n",
    "                df.at[idx, 'exit_price'] = price\n",
    "                pnl = entry_price - price\n",
    "                equity += pnl\n",
    "                df.at[idx, 'strategy_returns'] = pnl\n",
    "                position = 0  # Reset position to flat\n",
    "                entry_price = 0.0\n",
    "                self.logger.debug(f\"Exited SHORT at index {idx} with equity {equity}\")\n",
    "\n",
    "            # Entry logic (only when flat)\n",
    "            if position == 0:\n",
    "                if signal == TradeSignal.BUY:  # Enter LONG\n",
    "                    position = 1\n",
    "                    entry_price = price\n",
    "                    df.at[idx, 'entry_price'] = entry_price\n",
    "                    self.logger.debug(f\"Entered LONG at index {idx}\")\n",
    "                elif signal == TradeSignal.SELL:  # Enter SHORT\n",
    "                    position = -1\n",
    "                    entry_price = price\n",
    "                    df.at[idx, 'entry_price'] = entry_price\n",
    "                    self.logger.debug(f\"Entered SHORT at index {idx}\")\n",
    "\n",
    "            # Maintain the current position for all rows\n",
    "            df.at[idx, 'position'] = position\n",
    "            df.at[idx, 'equity'] = equity\n",
    "\n",
    "        self.logger.info(\"Backtest completed with single-trade handling.\")\n",
    "        return df\n"
   ]
  },
  {
   "cell_type": "code",
   "execution_count": null,
   "id": "548ba5bf",
   "metadata": {},
   "outputs": [
    {
     "name": "stderr",
     "output_type": "stream",
     "text": [
      "usage: ipykernel_launcher.py [-h] [-v] [-q] [--locals] [-f] [-c] [-b]\n",
      "                             [-k TESTNAMEPATTERNS]\n",
      "                             [tests ...]\n",
      "ipykernel_launcher.py: error: argument -f/--failfast: ignored explicit argument 'c:\\\\Users\\\\USER\\\\AppData\\\\Roaming\\\\jupyter\\\\runtime\\\\kernel-v3c0e47f59568c2e7c999a8caed1e9ea556d42ae0c.json'\n"
     ]
    },
    {
     "ename": "SystemExit",
     "evalue": "2",
     "output_type": "error",
     "traceback": [
      "An exception has occurred, use %tb to see the full traceback.\n",
      "\u001b[1;31mSystemExit\u001b[0m\u001b[1;31m:\u001b[0m 2\n"
     ]
    },
    {
     "name": "stderr",
     "output_type": "stream",
     "text": [
      "c:\\Users\\USER\\anaconda3\\envs\\TradingRobotPlug\\Lib\\site-packages\\IPython\\core\\interactiveshell.py:3585: UserWarning: To exit: use 'exit', 'quit', or Ctrl-D.\n",
      "  warn(\"To exit: use 'exit', 'quit', or Ctrl-D.\", stacklevel=1)\n"
     ]
    }
   ],
   "source": [
    "\n",
    "class TestBacktest(unittest.TestCase):\n",
    "    def setUp(self):\n",
    "        \"\"\"\n",
    "        Set up mock data and a strategy instance for testing.\n",
    "        \"\"\"\n",
    "        self.config = StrategyConfig()\n",
    "        self.logger = MagicMock()\n",
    "        self.strategy = Strategy(config=self.config, logger=self.logger)\n",
    "\n",
    "        # Mock DataFrame with 60 rows\n",
    "        self.df = pd.DataFrame({\n",
    "            'close': [100.0] * 60,\n",
    "            'high': [101.0] * 60,\n",
    "            'low': [99.0] * 60,\n",
    "            'volume': [1000] * 60,\n",
    "        })\n",
    "        self.df.loc[[14, 28, 42, 56], 'close'] = [100.0, 96.0, 100.0, 96.0]\n",
    "\n",
    "    def test_backtest_strategy_multiple_trades(self):\n",
    "        \"\"\"\n",
    "        Test backtest_strategy with multiple BUY and SELL signals.\n",
    "        \"\"\"\n",
    "        df_with_indicators = self.strategy.calculate_indicators(self.df.copy())\n",
    "\n",
    "        # Simulate multiple BUY and SELL signals\n",
    "        signals = [TradeSignal.HOLD] * len(df_with_indicators)\n",
    "        signals[14] = TradeSignal.BUY  # Enter LONG\n",
    "        signals[28] = TradeSignal.SELL  # Exit LONG, then enter SHORT\n",
    "        signals[42] = TradeSignal.BUY  # Exit SHORT, then enter LONG\n",
    "        signals[56] = TradeSignal.SELL  # Exit LONG, then enter SHORT\n",
    "\n",
    "        df_with_indicators['signal'] = signals\n",
    "        result = self.strategy.backtest_strategy(df_with_indicators)\n",
    "\n",
    "        # Validate positions and resets\n",
    "        self.assertEqual(result.loc[14, 'position'], 1, \"Should be LONG at index 14.\")\n",
    "        self.assertEqual(result.loc[28, 'position'], -1, \"Should exit LONG and enter SHORT at index 28.\")\n",
    "        self.assertEqual(result.loc[42, 'position'], 1, \"Should exit SHORT and enter LONG at index 42.\")\n",
    "        self.assertEqual(result.loc[56, 'position'], -1, \"Should exit LONG and enter SHORT at index 56.\")\n",
    "\n",
    "        # Validate entry and exit prices\n",
    "        self.assertEqual(result.loc[14, 'entry_price'], 100.0, \"Entry price should be set at index 14.\")\n",
    "        self.assertEqual(result.loc[28, 'exit_price'], 96.0, \"Exit price should match close price at index 28.\")\n",
    "        self.assertEqual(result.loc[42, 'entry_price'], 100.0, \"Entry price should be set again at index 42.\")\n",
    "        self.assertEqual(result.loc[56, 'exit_price'], 96.0, \"Exit price should match close price at index 56.\")\n",
    "\n",
    "        # Validate equity updates\n",
    "        self.assertGreater(result.loc[28, 'equity'], 0, \"Equity should update correctly after exit at index 28.\")\n",
    "        self.assertGreater(result.loc[56, 'equity'], 0, \"Equity should update correctly after exit at index 56.\")\n",
    "\n",
    "        # Print debugging data\n",
    "        print(result[['signal', 'position', 'entry_price', 'exit_price', 'strategy_returns', 'equity']].iloc[[14, 28, 42, 56]])\n",
    "\n",
    "if __name__ == '__main__':\n",
    "    unittest.main()\n"
   ]
  },
  {
   "cell_type": "code",
   "execution_count": 17,
   "id": "bd7352f8",
   "metadata": {},
   "outputs": [
    {
     "name": "stderr",
     "output_type": "stream",
     "text": [
      "C:\\Users\\USER\\AppData\\Local\\Temp\\ipykernel_22420\\1438446693.py:19: FutureWarning: Setting an item of incompatible dtype is deprecated and will raise an error in a future version of pandas. Value '[100.0, 96.0, 100.0, 96.0]' has dtype incompatible with int64, please explicitly cast to a compatible dtype first.\n",
      "  self.df.loc[[14, 28, 42, 56], 'close'] = [100.0, 96.0, 100.0, 96.0]\n",
      "INFO:TestBacktest:Starting backtest with single-trade handling.\n",
      "DEBUG:TestBacktest:Entered LONG at index 14\n",
      "DEBUG:TestBacktest:Exited LONG at index 28 with equity 99996.0\n",
      "DEBUG:TestBacktest:Entered SHORT at index 28\n",
      "DEBUG:TestBacktest:Exited SHORT at index 42 with equity 99992.0\n",
      "DEBUG:TestBacktest:Entered LONG at index 42\n",
      "DEBUG:TestBacktest:Exited LONG at index 56 with equity 99988.0\n",
      "DEBUG:TestBacktest:Entered SHORT at index 56\n",
      "INFO:TestBacktest:Backtest completed with single-trade handling.\n",
      "F\n",
      "======================================================================\n",
      "FAIL: test_backtest_strategy_multiple_trades (__main__.TestBacktest.test_backtest_strategy_multiple_trades)\n",
      "----------------------------------------------------------------------\n",
      "Traceback (most recent call last):\n",
      "  File \"C:\\Users\\USER\\AppData\\Local\\Temp\\ipykernel_22420\\1438446693.py\", line 23, in test_backtest_strategy_multiple_trades\n",
      "    self.assertEqual(result.loc[28, 'position'], 0)\n",
      "AssertionError: -1 != 0\n",
      "\n",
      "----------------------------------------------------------------------\n",
      "Ran 1 test in 0.052s\n",
      "\n",
      "FAILED (failures=1)\n"
     ]
    },
    {
     "name": "stdout",
     "output_type": "stream",
     "text": [
      "   signal  position  entry_price  exit_price  strategy_returns    equity\n",
      "14    BUY         1        100.0         0.0               0.0  100000.0\n",
      "28   SELL        -1         96.0        96.0              -4.0   99996.0\n",
      "42    BUY         1        100.0       100.0              -4.0   99992.0\n",
      "56   SELL        -1         96.0        96.0              -4.0   99988.0\n"
     ]
    },
    {
     "data": {
      "text/plain": [
       "<unittest.runner.TextTestResult run=1 errors=0 failures=1>"
      ]
     },
     "execution_count": 17,
     "metadata": {},
     "output_type": "execute_result"
    }
   ],
   "source": [
    "\n",
    "suite = unittest.TestLoader().loadTestsFromTestCase(TestBacktest)\n",
    "unittest.TextTestRunner().run(suite)\n",
    "    "
   ]
  }
 ],
 "metadata": {
  "kernelspec": {
   "display_name": "TradingRobotPlug",
   "language": "python",
   "name": "python3"
  },
  "language_info": {
   "codemirror_mode": {
    "name": "ipython",
    "version": 3
   },
   "file_extension": ".py",
   "mimetype": "text/x-python",
   "name": "python",
   "nbconvert_exporter": "python",
   "pygments_lexer": "ipython3",
   "version": "3.11.10"
  }
 },
 "nbformat": 4,
 "nbformat_minor": 5
}
